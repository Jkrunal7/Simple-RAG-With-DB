{
 "cells": [
  {
   "cell_type": "code",
   "execution_count": 1,
   "metadata": {},
   "outputs": [
    {
     "name": "stderr",
     "output_type": "stream",
     "text": [
      "f:\\Projects\\Simple RAG with Databases(Chroma&FAISS)\\venv\\lib\\site-packages\\tqdm\\auto.py:21: TqdmWarning: IProgress not found. Please update jupyter and ipywidgets. See https://ipywidgets.readthedocs.io/en/stable/user_install.html\n",
      "  from .autonotebook import tqdm as notebook_tqdm\n"
     ]
    }
   ],
   "source": [
    "from langchain_groq import ChatGroq\n",
    "from langchain.chains.combine_documents import create_stuff_documents_chain\n",
    "from langchain_core.prompts import ChatPromptTemplate\n",
    "from langchain.chains import create_retrieval_chain\n",
    "from langchain_community.vectorstores import FAISS\n",
    "from langchain_community.document_loaders import PyPDFDirectoryLoader\n",
    "from langchain_google_genai import GoogleGenerativeAIEmbeddings"
   ]
  },
  {
   "cell_type": "code",
   "execution_count": 2,
   "metadata": {},
   "outputs": [
    {
     "data": {
      "text/plain": [
       "[Document(metadata={'source': 'stockology.txt'}, page_content=\"Article 1: July 28, 2024 / 15:50 IST\\n\\nTitle: Stockology: Volatility would be high, and hammering will be stock-specific\\n\\nWhile markets are entering the slightly expensive zone, volatility is set to increase more.\\n\\nReview:\\n\\nAs expected, below 24290, buying emerged in most of the sectors and stocks. \\nThe Budget day panic hit or spike breached 24140 but immediately recovered, and for the next two days there was some element of exposure reduction happened. \\nOn Friday, markets once again surprised everyone by closing very near to an all-time high.\\n\\nWe had specifically mentioned that the time is not bad; while other parameters are turning slightly negative, the markets won't crash.\\nThe midcap space is becoming attractive and as a growing economy, it looks like many midcaps will enter the large-cap category in the quarters to come.\\n\\nThe biggest shocker came for the realty sector with the removal of indexation. The sector will witness reduced demand, more people might prefer to pay fewer taxes, and show less value in the transactions. One will have to accept the simplified tax regime going forward.\\n\\nTechnical:\\n\\nWhile markets are entering the slightly expensive zone, volatility is set to increase further. \\nThe first four days after decline and single candle of the last day of the week have not equalised the losses of the four days. \\nTechnical Analysis is simple, and by following basic rules anybody can use it to improve returns and reduce the stress of trading. \\nAs per technical, markets have not given a sell signal on short- or long-term charts, therefore, there is no need to anticipate and take actions. \\nAfter the sell trigger, markets give relief rally to exit from the positions, which is an easy and simple approach. As long as the signal is 'stay invested', do not keep churning the portfolio.\\n\\nThe new high close after the spike has made a change in the short-term stop to 24050, and confirmation of exit from trading position is at 23970. \\nThe weekly stop is at 22370 and monthly stop is at 21240. On the upside, short-term targets are 24949, and 25241. Both the targets look easy to achieve. \\nGiven that the bullish euphoria is mounting day by day, the above target could easily be achieved.\\n\\nTimeMap:\\n\\nAs mentioned last week, technical gave a small sign of correction â€“ as an opportunity to invest, fundamental factors turned slightly negative. \\nThe time influence was positive last week, and is showing positive for the upcoming week as well. \\nThere are no major planetary aspects, except on Friday during Venus 90 Uranus, which is negative for the markets. \\nIn the current week, banks are coming as negative, and PSU continues to be in a positive phase. \\nBig change is expected on the 30th, as after 10.45, the Sun is entering Nakshatra Ashlesha, which is very positive for the natural resource sector, and particularly for the steel industry. \\nGovernment-owned mining and metal stocks might attract big-ticket buying from institutions and long-term investors as well.\\n\\nAshlesha gives the best consolidation and momentum breakout signals, and if on the right side, then BIG money can be made in a short span. \\nVolatility would be high, and hammering will be stock-specific more than broad markets.\\n\\nJuly 29, 2024: Monday: K.9: Bharni -10.55/Kruttika: Good to Book profits:\\n\\nHigher opening and further rise in the first hour cannot be ruled out. As per the earlier observation â€“ Tithi and Nakshatra combination is good for booking profits, and selective short selling as well. The Moon is in Kruttika after 10.55, which means that hourly divergence signals can be aggressively actively participated in to make lot of profitable trades. Realty and banks would be volatile, while textile and retail store stocks will attract investments. Keep an eye on metal and mining stocks, especially the government-owned businesses, as next 10 to 13 days are very positive for the sector. Sell Today Buy Tomorrow (STBT) is indicated.\\n\\nJuly 30, 2024: Tuesday: K,10: Kruttika -10.23/ Rohini: Volatile after 5:\\n\\nLower opening of the markets is expected. Mean reversion indicators will give the best results today, and long short baskets will do very well. Bias is negative for the day. Participants would be nervous, and volumes would drop slightly in the pre-lunch session. In the second half, participation would increase. IT sector and communication would see buying, and midcap will witness profit booking and selling. Big probability markets will see a negative closing.\\n\\nJuly 31, 2024: Wednesday: K.11: Rohini-10.13/Mrugga: Volatile bullish:\\n\\nMarket sentiment will generally be cautious and slightly nervous under the influence of Tithi 11. Post 10 am, a sudden flow of orders will bring volatility to the markets. Fast action or quick reaction will bring big rewards. One of the best days of the week to participate in a contrarian trade and increase the position once in favour. Aggression and speed is rewarded under the influence of Nakshatra Mrugga. Index movement will be very wide, and option trades can mint money. High Beta stocks and momentum indices will do well.\\n\\nAugust 1, 2024: Thursday: K.12: Mrugga: Good day:\\n\\nProactive actions get rewarded. Donâ€™t wait for confirmation to go with your study and stick to your strategies. Execute as per trade plans and do not deviate from your own ideas and plans. Prices will misguide and\\ncreate doubts in your mind. Even the most confident people will feel the pressure and tend to back off. We suggest you to be confident and trust your strategy. Systematic traders will make the best profits on August 1. Technology, communications, and logistic sector stocks will hog the limelight. Buy Today Sell Tomorrow (BTST) is indicated.\\n\\nAugust 2, 2024: Friday: K.13: Aardra: Bad Day:\\n\\nHigher opening and rise will be followed by unexpected selling in many counters. We suggest participants to remain alert, especially post-lunch, our observation indicates. Sudden sell off in select counters will disturb the sentiment. Tithi 13 is bad for sector leaders; expect oil and gas sector to get especially hammered. Uranus 90 Venus will be destructive for select companies, especially those that have gone way ahead of their valuations.\\n\\n\\nArticle 2: August 04, 2024 / 08:04 IST\\n\\nTitle: Stockology: FMCG and IT sector could show a positive breakout\\n\\nMajor panic sell-off or crisis is not indicated in the coming week.\\n\\nReview: \\n\\nAfter scaling above 25,000, markets gave a gap down big corrective move on Friday, July 26th. After four negative days, the market gave a single big candle which recovered losses of four days. The exact reverse happened in the current week. Four days of profit got wiped out on Friday by a single candle.\\n\\nMarket breadth was bad. Mid and Small cap segment witnessed significant amount of selling and profit booking from the big investors. Auto witnessed a sell off on Friday, and they were among the top losers. Metals and defence companies also witnessed sell off as valuation will catch-up when the euphoria is nearing the end. While banks which have not really participated in this bull market of last one year, except ICICI, SBI and Axis, remained stable and held the markets steady, interesting on Friday, large caps witnessed pressure. While breadth was negative, yet pressure was less in the mid and small cap space.\\n\\nTechnical:\\n\\nAs mentioned above, the previous two weeks were practically a reverse image of trading and at a new high. Every day markets will throw surprises as it is in uncharted territory. Anxiety plays a huge role. Everyone is in search of a top and prays and tries their best to be the seller at top, and after selling, wishes markets should go down. Since December, markets have been deceptive to the most seasoned players.\\n\\nIn the technical levels, nothing has changed. The new high closing on daily charts, has given an early warning trigger and that point is 24640. Close below this will indicate more than 65 percent chances of the short-term stop of 24,050 and confirmation of 23,970 will get triggered before September 10 - ideally within 13 days it should. The weekly stop is at 22,370 and monthly stop is at 21,240. On the upside short term targets are 24,949, and 25,241. Both the targets look easily to achieve. The bullish euphoria is mounting day by day, and above that the target could easily get achieved.\\n\\nAs a technical analyst, we believe the risk reward ratio is turning against the bullish camp, and it is surely first sign of withdrawal from the markets. Choose your trades very carefully.\\n\\nTimeMap:\\n\\nSun is transiting in Nakshatra Ashlesha. As expected, movement in the natural resource and metals is picking up. Down or up is not important â€“ volatility is the key.  IT sector, PSU and Capital Goods, are coming positive. Auto & FMCG are negative, Pharma & Bank and Nifty 50:50 is the broad TimeMap guideline for the upcoming week. While as previously mentioned, Time is still not showing big risk, it has started giving indications that slow wealth destruction has begun. Major panic sell-off or crisis is not indicated. Sun 60 Jupiter on 7th is a very positive aspect, and big movement in index stocks cannot be ruled out. The next day it is Venus 0 Mercury aspect. Thursday seems very important day of the week.\\n\\nWe are looking at Cement and Auto Ancillary selectively, and MNC-specialised capital goods sector companies to do extremely well.\\n\\nFrom TimeMap perspective, many individual companies, especially the defence companies will see beginning of a major correction, while FMCG and IT might show a positive breakout.\\n\\nAugust 05, 2024: Monday: S.1: Ashlesha: Good after 11:\\n\\nGap down and recovery could be the best scenario. Will the markets recovery to close in positive? Our system is showing negative closing today, and it would be good for the markets. Buy Today Sell Tomorrow (BTST) is recommended, especially in capital goods sector. In case Stop gets triggered without delay â€“ exit, and in case position is in favour, continue to ride the rally till EOD, or even continue as BTST. Ashlesha gives the best results on consolidation breakout momentum indicators.\\n\\nWatch for the bulk deals â€“ or major takeover deals. Buyer would be successful and mint money.\\n\\nAugust 06, 2024: Tuesday: S.2: Magha: Bullish Day:\\n\\nWe would see cement and construction companies attracting big ticket investments, especially the speciality engineering space.\\n\\nAnother sector which can see aggressive short covering and buying is Auto. Buy Today Sell Tomorrow (BTST) is indicated. Market sentiment would be very happy and many companies will declare good numbers.\\n\\nAugust 07, 2024: Wednesday: S.3: Purva: Bullish day, Book Profits:\\n\\nMarket sentiment would be very cautious. Positive global cues will make naÃ¯ve traders very aggressive, and we believe before lunch, the markets would show lot of positivity and post-lunch selling pressure from the institutions would force day traders to withdraw early. Tithi has given some of the widest surprise moves, and it is more often positive. Nakshatra of the Moon is best for booking profits and selling short, wherever confirmation of a divergence signal is available can be used as Sell Today Buy Tomorrow (STBT).\\n\\nAugust 08, 2024: Thursday: S.4: Uttara: Good to Sell:\\n\\nTithi is deceptive. Manipulation signals or error trades will hurt many traders. Pattern failure is the best for participating today. It also means that one should show patience. Let the signal get triggered and allow it to fail on the 15-minutes chart and then participate. Big money can be made. Sell and Buy would give best results.\\n\\nA company declaring bad result today, could get hammered, and fearlessly participate aggressively. Short sell position trade is recommended with 30-days view.\\n\\nAugust 09, 2024: Friday: S.5: Hasta: Auspicious Day:\\n\\nTithi 5 gives wide movement and also gives powerful reversal. V shape movement in the markets are the trait of the Tithi, but Nakshatra of the MOON Hasta works on slow and steady win the race is the principal. Wait patiently and donâ€™t rush into any trade. Best investment day of the week, and it can be a contrarian investment. If you want to build a position then you should hold it big time.\\n\")]"
      ]
     },
     "execution_count": 2,
     "metadata": {},
     "output_type": "execute_result"
    }
   ],
   "source": [
    "#Data Ingestion from Local Text file\n",
    "\n",
    "from langchain_community.document_loaders import TextLoader\n",
    "loader=TextLoader(\"stockology.txt\")\n",
    "text_documents=loader.load()\n",
    "text_documents\n"
   ]
  },
  {
   "cell_type": "code",
   "execution_count": 3,
   "metadata": {},
   "outputs": [],
   "source": [
    "#Import Google and Groq\n",
    "\n",
    "from dotenv import load_dotenv\n",
    "import os\n",
    "load_dotenv()\n",
    "\n",
    "## load the GROQ And OpenAI API KEY \n",
    "groq_api_key=os.getenv('GROQ_API_KEY')\n",
    "os.environ[\"GOOGLE_API_KEY\"]=os.getenv(\"GOOGLE_API_KEY\")\n",
    "\n"
   ]
  },
  {
   "cell_type": "code",
   "execution_count": 4,
   "metadata": {},
   "outputs": [
    {
     "data": {
      "text/plain": [
       "[Document(metadata={'source': 'stockology.txt'}, page_content='Article 1: July 28, 2024 / 15:50 IST'),\n",
       " Document(metadata={'source': 'stockology.txt'}, page_content='Title: Stockology: Volatility would be high, and hammering will be stock-specific'),\n",
       " Document(metadata={'source': 'stockology.txt'}, page_content='While markets are entering the slightly expensive zone, volatility is set to increase more.'),\n",
       " Document(metadata={'source': 'stockology.txt'}, page_content='Review:'),\n",
       " Document(metadata={'source': 'stockology.txt'}, page_content='As expected, below 24290, buying emerged in most of the sectors and stocks.')]"
      ]
     },
     "execution_count": 4,
     "metadata": {},
     "output_type": "execute_result"
    }
   ],
   "source": [
    "#Transform Data in Chunks\n",
    "\n",
    "from langchain.text_splitter import RecursiveCharacterTextSplitter\n",
    "text_splitter=RecursiveCharacterTextSplitter(chunk_size=100,chunk_overlap=20)\n",
    "documents=text_splitter.split_documents(text_documents)\n",
    "documents[:5]\n"
   ]
  },
  {
   "cell_type": "code",
   "execution_count": 5,
   "metadata": {},
   "outputs": [],
   "source": [
    "# Generate embeddings\n",
    "embeddings_model = GoogleGenerativeAIEmbeddings(model=\"models/embedding-001\")\n",
    "embeddings = embeddings_model.embed_documents([doc.page_content for doc in documents])"
   ]
  },
  {
   "cell_type": "code",
   "execution_count": 6,
   "metadata": {},
   "outputs": [],
   "source": [
    "#Converting Chunks to Vector Embeddings and storing to ChromaDB\n",
    "\n",
    "from langchain_google_genai import GoogleGenerativeAIEmbeddings\n",
    "from langchain_community.vectorstores import Chroma\n",
    "DB = Chroma.from_documents(documents, embeddings_model)\n"
   ]
  },
  {
   "cell_type": "code",
   "execution_count": 7,
   "metadata": {},
   "outputs": [
    {
     "data": {
      "text/plain": [
       "[Document(metadata={'source': 'stockology.txt'}, page_content='After scaling above 25,000, markets gave a gap down big corrective move on Friday, July 26th. After'),\n",
       " Document(metadata={'source': 'stockology.txt'}, page_content='July 26th. After four negative days, the market gave a single big candle which recovered losses of'),\n",
       " Document(metadata={'source': 'stockology.txt'}, page_content='August 07, 2024: Wednesday: S.3: Purva: Bullish day, Book Profits:'),\n",
       " Document(metadata={'source': 'stockology.txt'}, page_content='As expected, below 24290, buying emerged in most of the sectors and stocks.')]"
      ]
     },
     "execution_count": 7,
     "metadata": {},
     "output_type": "execute_result"
    }
   ],
   "source": [
    "#Direct Search on Chroma db without LLM\n",
    "Query=\"What was the market view on july 29 2024?\"\n",
    "result=DB.similarity_search(Query)\n",
    "result\n"
   ]
  },
  {
   "cell_type": "code",
   "execution_count": 8,
   "metadata": {},
   "outputs": [
    {
     "data": {
      "text/plain": [
       "'After scaling above 25,000, markets gave a gap down big corrective move on Friday, July 26th. After'"
      ]
     },
     "execution_count": 8,
     "metadata": {},
     "output_type": "execute_result"
    }
   ],
   "source": [
    "#Direct Search on Chroma db without LLM\n",
    "Query=\"What was the market view on july 29 2024?\"\n",
    "result=DB.similarity_search(Query)\n",
    "result[0].page_content"
   ]
  },
  {
   "cell_type": "code",
   "execution_count": 9,
   "metadata": {},
   "outputs": [],
   "source": [
    "#Storing Chunks to FAISS DB\n",
    "\n",
    "from langchain_community.vectorstores import FAISS\n",
    "DB2=FAISS.from_documents(documents[:20], embeddings_model)"
   ]
  },
  {
   "cell_type": "code",
   "execution_count": 10,
   "metadata": {},
   "outputs": [
    {
     "data": {
      "text/plain": [
       "'After scaling above 25,000, markets gave a gap down big corrective move on Friday, July 26th. After'"
      ]
     },
     "execution_count": 10,
     "metadata": {},
     "output_type": "execute_result"
    }
   ],
   "source": [
    "#Direct Search on FAISS db without LLM\n",
    "Query=\"What was the market view on july 29 2024?\"\n",
    "result=DB.similarity_search(Query)\n",
    "result[0].page_content"
   ]
  }
 ],
 "metadata": {
  "kernelspec": {
   "display_name": "Python 3",
   "language": "python",
   "name": "python3"
  },
  "language_info": {
   "codemirror_mode": {
    "name": "ipython",
    "version": 3
   },
   "file_extension": ".py",
   "mimetype": "text/x-python",
   "name": "python",
   "nbconvert_exporter": "python",
   "pygments_lexer": "ipython3",
   "version": "3.10.14"
  }
 },
 "nbformat": 4,
 "nbformat_minor": 2
}

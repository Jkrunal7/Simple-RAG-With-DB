{
 "cells": [
  {
   "cell_type": "code",
   "execution_count": 1,
   "metadata": {},
   "outputs": [
    {
     "name": "stderr",
     "output_type": "stream",
     "text": [
      "f:\\Projects\\Simple RAG with Databases(Chroma&FAISS)\\venv\\lib\\site-packages\\tqdm\\auto.py:21: TqdmWarning: IProgress not found. Please update jupyter and ipywidgets. See https://ipywidgets.readthedocs.io/en/stable/user_install.html\n",
      "  from .autonotebook import tqdm as notebook_tqdm\n"
     ]
    }
   ],
   "source": [
    "from langchain_groq import ChatGroq\n",
    "from langchain.chains.combine_documents import create_stuff_documents_chain\n",
    "from langchain_core.prompts import ChatPromptTemplate\n",
    "from langchain.chains import create_retrieval_chain\n",
    "from langchain_community.vectorstores import FAISS\n",
    "from langchain_community.document_loaders import PyPDFDirectoryLoader\n",
    "from langchain_google_genai import GoogleGenerativeAIEmbeddings"
   ]
  },
  {
   "cell_type": "code",
   "execution_count": 2,
   "metadata": {},
   "outputs": [],
   "source": [
    "#Import Google and Groq\n",
    "\n",
    "from dotenv import load_dotenv\n",
    "import os\n",
    "load_dotenv()\n",
    "\n",
    "## load the GROQ And OpenAI API KEY \n",
    "groq_api_key=os.getenv('GROQ_API_KEY')\n",
    "os.environ[\"GOOGLE_API_KEY\"]=os.getenv(\"GOOGLE_API_KEY\")"
   ]
  },
  {
   "cell_type": "code",
   "execution_count": 3,
   "metadata": {},
   "outputs": [],
   "source": [
    "from langchain_community.document_loaders import PyPDFLoader\n",
    "loader=PyPDFLoader('Stockology Article 2.pdf')\n",
    "docs=loader.load()"
   ]
  },
  {
   "cell_type": "code",
   "execution_count": 4,
   "metadata": {},
   "outputs": [
    {
     "data": {
      "text/plain": [
       "[Document(metadata={'source': 'Stockology Article 2.pdf', 'page': 0}, page_content='Stockology: FMCG and IT sector could show a positive \\nbreakout  \\n \\nMAHESH  GOWANDE  AUGUST  04, 2024  / 08:04 IST  \\nMajor panic sell -off or crisis is not indicated in the coming week.  \\n \\nReview:  \\nAfter scaling above 25,000, markets gave a gap down big corrective move on Friday, July 26th. After \\nfour negative days, the market gave a single big candle which recovered losses of four days. The \\nexact reverse happened in the curren t week. Four days of profit got wiped out on Friday by a single \\ncandle.  \\nMarket breadth was bad. Mid and Small cap segment witnessed significant amount of selling and \\nprofit booking from the big investors. Auto witnessed a sell off on Friday, and they were among the \\ntop losers. Metals and defence companies also witnessed sell off as valuation will catch -up when the \\neuphoria is nearing the end. While banks which have not really participated in this bull market of last \\none year, except ICICI, SBI and Axis, rem ained stable and held the markets steady, interesting on \\nFriday, large caps witnessed pressure. While breadth was negative, yet pressure was less in the mid \\nand small cap space.  \\n \\nTechnical  \\nAs mentioned above, the previous two weeks were practically a reverse image of trading and at a \\nnew high. Every day markets will throw surprises as it is in uncharted territory. Anxiety plays a huge \\nrole. Everyone is in search of a top and prays and tries their best to be the seller at top, and after \\nselling, wishes markets should go down. Since December, markets have been deceptive to the most \\nseasoned players.  \\nIn the technical levels, nothing has changed. The new high closing on daily charts, has given an early \\nwarning trigger and that point is 24640. Close below th is will indicate more than 65 percent chances \\nof the short -term stop of 24,050 and confirmation of 23,970 will get triggered before September 10 - \\nideally within 13 days it should. The weekly stop is at 22,370 and monthly stop is at 21,240. On the \\nupside s hort term targets are 24,949, and 25,241. Both the targets look easily to achieve. The bullish \\neuphoria is mounting day by day, and above that the target could easily get achieved.  \\nAs a technical analyst, we believe the risk reward ratio is turning against  the bullish camp, and it is \\nsurely first sign of withdrawal from the markets. Choose your trades very carefully.  \\n \\nTimeMap  \\nSun is transiting in Nakshatra Ashlesha. As expected, movement in the natural resource and metals is \\npicking up. Down or up is not im portant – volatility is the key.  IT sector, PSU and Capital Goods, are \\ncoming positive. Auto & FMCG are negative, Pharma & Bank and Nifty 50:50 is the broad TimeMap '),\n",
       " Document(metadata={'source': 'Stockology Article 2.pdf', 'page': 1}, page_content='guideline for the upcoming week. While as previously mentioned, Time is still not showing big risk, it \\nhas started giving indications that slow wealth destruction has begun. Major panic sell -off or crisis is \\nnot indicated. Sun 60 Jupiter on 7th is a very positive aspect, and big movement in index stocks \\ncannot be ruled out. The next day it is V enus 0 Mercury aspect. Thursday seems very important day \\nof the week.  \\nWe are looking at Cement and Auto Ancillary selectively, and MNC -specialised capital goods sector \\ncompanies to do extremely well.  \\nFrom TimeMap perspective, many individual companies, esp ecially the defence companies will see \\nbeginning of a major correction, while FMCG and IT might show a positive breakout.  \\n \\nAugust 05, 2024: Monda y: S.1: Ashlesha: Good after 11  \\nGap down and recovery could be the best scenario. Will the markets recovery to close in positive? \\nOur system is showing negative closing today, and it would be good for the markets. Buy Today Sell \\nTomorrow (BTST) is recommended, especially in capital goods sector. In case Stop gets triggered \\nwithout delay – exit, and in case position  is in favour, continue to ride the rally till EOD, or even \\ncontinue as BTST. Ashlesha gives the best results on consolidation breakout momentum indicators.  \\nWatch for the bulk deals – or major takeover deals. Buyer would be successful and mint money.  \\n \\nAugu st 06, 2024: T uesday: S.2: Magha: Bullish Day  \\nWe would see cement and construction companies attracting big ticket investments, especially the \\nspeciality engineering space.  \\nAnother sector which can see aggressive short covering and buying is Auto. Buy Toda y Sell \\nTomorrow (BTST) is indicated. Market sentiment would be very happy and many companies will \\ndeclare good numbers.  \\n \\nAugust 07, 2024: Wednesday: S.3: Purva: Bullish day, Book Profits  \\nMarket sentiment would be very cautious. Positive global cues will ma ke naïve traders very \\naggressive, and we believe before lunch, the markets would show lot of positivity and post -lunch \\nselling pressure from the institutions would force day traders to withdraw early. Tithi has given some \\nof the widest surprise moves, and it is more often positive. Nakshatra of the Moon is best for \\nbooking profits and selling short, wherever confirmation of a divergence signal is available can be \\nused as Sell Today Buy Tomorrow (STBT).  \\n \\nAugust 08, 2024: Thur sday: S.4: Uttara: Good to Sell  \\nTithi is deceptive. Manipulation signals or error trades will hurt many traders. Pattern failure is the \\nbest for participating today. It also means that one should show patience. Let the signal get triggered \\nand allow it to fail on the 15 -minutes chart and  then participate. Big money can be made. Sell and \\nBuy would give best results.  '),\n",
       " Document(metadata={'source': 'Stockology Article 2.pdf', 'page': 2}, page_content='A company declaring bad result today, could get hammered, and fearlessly participate aggressively. \\nShort sell position trade is recommended with 30 -days view.  \\n \\nAugust 09, 2024:  Friday: S.5: Hasta: Auspicious Day  \\nTithi 5 gives wide movement and also gives powerful reversal. V shape movement in the markets are \\nthe trait of the Tithi, but Nakshatra of the MOON Hasta works on slow and steady win the race is the \\nprincipal. Wait patie ntly and don’t rush into any trade. Best investment day of the week, and it can \\nbe a contrarian investment. If you want to build a position then you should hold it big time.  \\n \\nReference  \\nArticle URL: https://www.moneycontrol.com/news/business/markets/stockology -fmcg -and-it-\\nsector -could -show -a-positive -breakout -12786242.html  ')]"
      ]
     },
     "execution_count": 4,
     "metadata": {},
     "output_type": "execute_result"
    }
   ],
   "source": [
    "docs"
   ]
  },
  {
   "cell_type": "code",
   "execution_count": 6,
   "metadata": {},
   "outputs": [
    {
     "data": {
      "text/plain": [
       "[Document(metadata={'source': 'Stockology Article 2.pdf', 'page': 0}, page_content='Stockology: FMCG and IT sector could show a positive \\nbreakout'),\n",
       " Document(metadata={'source': 'Stockology Article 2.pdf', 'page': 0}, page_content='breakout  \\n \\nMAHESH  GOWANDE  AUGUST  04, 2024  / 08:04 IST'),\n",
       " Document(metadata={'source': 'Stockology Article 2.pdf', 'page': 0}, page_content='Major panic sell -off or crisis is not indicated in the coming week.  \\n \\nReview:'),\n",
       " Document(metadata={'source': 'Stockology Article 2.pdf', 'page': 0}, page_content='After scaling above 25,000, markets gave a gap down big corrective move on Friday, July 26th. After'),\n",
       " Document(metadata={'source': 'Stockology Article 2.pdf', 'page': 0}, page_content='July 26th. After')]"
      ]
     },
     "execution_count": 6,
     "metadata": {},
     "output_type": "execute_result"
    }
   ],
   "source": [
    "#Transform Data in Chunks\n",
    "\n",
    "from langchain.text_splitter import RecursiveCharacterTextSplitter\n",
    "text_splitter=RecursiveCharacterTextSplitter(chunk_size=100,chunk_overlap=20)\n",
    "documents=text_splitter.split_documents(docs)\n",
    "documents[:5]"
   ]
  },
  {
   "cell_type": "code",
   "execution_count": 7,
   "metadata": {},
   "outputs": [],
   "source": [
    "# Generate embeddings\n",
    "embeddings_model = GoogleGenerativeAIEmbeddings(model=\"models/embedding-001\")"
   ]
  },
  {
   "cell_type": "code",
   "execution_count": 8,
   "metadata": {},
   "outputs": [],
   "source": [
    "#Converting Chunks to Vector Embeddings and storing to ChromaDB\n",
    "\n",
    "from langchain_google_genai import GoogleGenerativeAIEmbeddings\n",
    "from langchain_community.vectorstores import Chroma\n",
    "DB = Chroma.from_documents(documents, embeddings_model)"
   ]
  },
  {
   "cell_type": "code",
   "execution_count": 16,
   "metadata": {},
   "outputs": [
    {
     "data": {
      "text/plain": [
       "'August 09, 2024:  Friday: S.5: Hasta: Auspicious Day'"
      ]
     },
     "execution_count": 16,
     "metadata": {},
     "output_type": "execute_result"
    }
   ],
   "source": [
    "#Direct Search on Chroma db without LLM\n",
    "Query=\"What is Nakshatra on August 09, 2024?\"\n",
    "result=DB.similarity_search(Query)\n",
    "#result\n",
    "result[0].page_content"
   ]
  },
  {
   "cell_type": "code",
   "execution_count": 10,
   "metadata": {},
   "outputs": [],
   "source": [
    "#Storing Chunks to FAISS DB\n",
    "\n",
    "from langchain_community.vectorstores import FAISS\n",
    "DB2=FAISS.from_documents(documents[:20], embeddings_model)"
   ]
  },
  {
   "cell_type": "code",
   "execution_count": 15,
   "metadata": {},
   "outputs": [
    {
     "data": {
      "text/plain": [
       "'August 09, 2024:  Friday: S.5: Hasta: Auspicious Day'"
      ]
     },
     "execution_count": 15,
     "metadata": {},
     "output_type": "execute_result"
    }
   ],
   "source": [
    "#Direct Search on FAISS db without LLM\n",
    "Query=\"What is Nakshatra on August 09, 2024?\"\n",
    "result=DB.similarity_search(Query)\n",
    "result[0].page_content"
   ]
  }
 ],
 "metadata": {
  "kernelspec": {
   "display_name": "Python 3",
   "language": "python",
   "name": "python3"
  },
  "language_info": {
   "codemirror_mode": {
    "name": "ipython",
    "version": 3
   },
   "file_extension": ".py",
   "mimetype": "text/x-python",
   "name": "python",
   "nbconvert_exporter": "python",
   "pygments_lexer": "ipython3",
   "version": "3.10.14"
  }
 },
 "nbformat": 4,
 "nbformat_minor": 2
}

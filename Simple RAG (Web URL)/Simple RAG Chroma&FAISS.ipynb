{
 "cells": [
  {
   "cell_type": "code",
   "execution_count": 1,
   "metadata": {},
   "outputs": [
    {
     "name": "stderr",
     "output_type": "stream",
     "text": [
      "f:\\Projects\\Simple RAG with Databases(Chroma&FAISS)\\venv\\lib\\site-packages\\tqdm\\auto.py:21: TqdmWarning: IProgress not found. Please update jupyter and ipywidgets. See https://ipywidgets.readthedocs.io/en/stable/user_install.html\n",
      "  from .autonotebook import tqdm as notebook_tqdm\n"
     ]
    }
   ],
   "source": [
    "from langchain_groq import ChatGroq\n",
    "from langchain.chains.combine_documents import create_stuff_documents_chain\n",
    "from langchain_core.prompts import ChatPromptTemplate\n",
    "from langchain.chains import create_retrieval_chain\n",
    "from langchain_community.vectorstores import FAISS\n",
    "from langchain_community.document_loaders import PyPDFDirectoryLoader\n",
    "from langchain_google_genai import GoogleGenerativeAIEmbeddings"
   ]
  },
  {
   "cell_type": "code",
   "execution_count": 2,
   "metadata": {},
   "outputs": [],
   "source": [
    "#Import Google and Groq\n",
    "\n",
    "from dotenv import load_dotenv\n",
    "import os\n",
    "load_dotenv()\n",
    "\n",
    "## load the GROQ And OpenAI API KEY \n",
    "groq_api_key=os.getenv('GROQ_API_KEY')\n",
    "os.environ[\"GOOGLE_API_KEY\"]=os.getenv(\"GOOGLE_API_KEY\")"
   ]
  },
  {
   "cell_type": "code",
   "execution_count": 3,
   "metadata": {},
   "outputs": [
    {
     "name": "stderr",
     "output_type": "stream",
     "text": [
      "USER_AGENT environment variable not set, consider setting it to identify your requests.\n"
     ]
    }
   ],
   "source": [
    "#Web based loader\n",
    "\n",
    "from langchain_community.document_loaders import WebBaseLoader\n",
    "import bs4\n"
   ]
  },
  {
   "cell_type": "code",
   "execution_count": 7,
   "metadata": {},
   "outputs": [],
   "source": [
    "#Data Ingestion from Web URL\n",
    "#Load, Chunk and index the content of the HTML Page\n",
    "\n",
    "loader=WebBaseLoader(web_paths=(\"https://www.moneycontrol.com/news/business/markets/stockology-textile-fertiliser-and-food-business-will-attract-big-ticket-investments-12792837.html\",),\n",
    "                     bs_kwargs=dict(parse_only=bs4.SoupStrainer(\n",
    "                         class_=(\"article_title artTitle\",\"article_desc\",\"content_wrapper arti-flow\")\n",
    "                     )))\n",
    "\n",
    "webtext_documents = loader.load()\n",
    "\n"
   ]
  },
  {
   "cell_type": "code",
   "execution_count": 8,
   "metadata": {},
   "outputs": [
    {
     "data": {
      "text/plain": [
       "[Document(metadata={'source': 'https://www.moneycontrol.com/news/business/markets/stockology-textile-fertiliser-and-food-business-will-attract-big-ticket-investments-12792837.html'}, page_content=\"Stockology: Textile, fertiliser and food business will attract big ticket investmentsThe long-term structure is very much intact, and nothing has changed. Weekly and monthly stops and levels are still same and there is no change.                                                                                                \\n Past few days and week, movement in markets is choppy and in a very tight range. The Solar date zone of September â€“ 4 to 10, could infuse fresh momentum in the markets, and we may see more than 6% directional movement within 45 days in Nifty.  \\nStockology is a weekly column by futurologist Mahesh Gowande. He is the Founder and Director of Ayan Analytics, which has developed ZodiacAnalyst, a research software with time and price charting tools.Read previous columns here ReviewAs expected, the markets opened with a gap down and tried to recover by higher opening on Tuesday.Â\\xa0They failed and closed lower than Monday. Most PSU's remained in the limelight. Hammering and recovery were witnessed in the defence stocks while real strength was seen in the speciality chemical space along with FMCG companies. A clear shifting of sector focus, and stock churning is visible when looking at the past week's data.Story continues below AdvertisementRemove AdTechnicalLast week, we highlighted that markets were showing signs of tiredness and weakness, but TimeMap was positive, and markets remained in the optimistic zone. Now, since the Sun entered Nakshatra Ashlesha, TimeMap is shifting slightly negative and will get more negative, post-September 5.As of now, the short-term view is negative, and a critical point is after the gap downfall. The markets have failed to recover more than 60% from the lows, it is the first sign of weakness. The absence of follow-up buying and a buffer of money waiting to get invested is reducing. Related stories Bulls take Nifty past 24,500 as all sectors rally, VIX cools offTaking Stock: Easing US recession fears power Nifty, Sensex 1.7% higher to end week on high noteIndices continue to trade within 1% range; Nifty's key straddle positioned at 24,300 Technical downside target in the short-term is 23,640 & 23230, within 22 Days. On the upside, the 24400 to 24550 zone will attract selling pressure from the trapped positions. Markets always give two or three exit options before going down, known as pullbacks, and it means for the coming few days rise in prices will be used for reducing exposure.The long-term structure is very much intact, and nothing has changed. Weekly and monthly stops and levels are still the same and there is no change. The sectors that will change will be the textile, fertiliser and food businesses which will attract a lot of big-ticket investments.TimeMapSun Transit in Ashlesha has triggered a change of Power in Bangladesh, a country considered one of the best in the region, happiness quotient above India â€“ suddenly witnessed a violent protest, The Prime Minister was given less than an hour to leave the country or she would have been lynched by the mob.Story continues below AdvertisementRemove AdAshlesha does not give Time, and it squeezes the opponent to death. We have given this in many of our earlier write-ups â€“ Bangladesh witnessed it. Similarly, from Monday onwards gaps down did not give exit to position holders. We have mentioned that time is turning unfavourable towards the bullish camp and markets will witness wealth destruction also sideways volatile slow and steady decline over the next few months is expected. Huge inflow towards index funds will continue.Past few days and weeks, movement in markets is choppy and in a very tight range. The Solar date zone of September â€“ 4 to 10, could infuse fresh momentum in the markets, and we may see more than 6% directional movement within 45 days in Nifty.August 14, Jupiter 0 Mars 8.33 PM: ItÂ\\xa0is very important and it would give 4 to 6 months of direction to the markets.Â\\xa0 August 16, 10.41 AM - Mars 90 Saturn, natural resource and PSU sector stocks will see a major trend.August 18, 14.58 am Mercury 0 Uranus:Â\\xa0Power sector and communication. Finally, it is connected to EV as an industry. Positive signals for the sector.The week aheadAugust 12, 2024: Monday: S.7-7.56/S.8: Swati â€“ 8.33/Vishakha: Bearish DayA flat to minor positive opening is expected to be followed by sideways movement in the markets. Post lunch rising pressure will push indices in the negative. We expect a negative closing today. SELL and BUY strategy will be beneficial for the markets. Contrarian indicators and strategies will give better results.Buy Today Sell Tomorrow (BTST) strategies are recommended.August 13, 2024: Tuesday: S.8-9.32/S.9: Vishakha-10.45/Anuradha: Bullish after 11.A flat to negative opening is expected. Sentiment in the markets would be sluggish and pessimistic. Post 11 am, deep pocket funds buying will bring vibrancy to the markets. Post-lunch buying orders will increase and suddenly markets will turn bullish in sentiment, and many stocks will see broad-based ETF buying in the markets, thereby lifting the market sentiment. STBT is highly recommended.August 14, 2024: Wednesday: S.9-10.24/ S.10: Anuradha 12.12: Volatile.Lower opening due to global sentiment could trigger panic selling in the markets. Tithi Navami is bearish, and it can give the finest short-sell trades for intraday traders, or making money by shorts is comparatively easy under the influence of Tithi Navami. Natural resources and mining stocks will witness selective buying from insurance and long-term investment funds. Smart hands would be very active in the markets.Metal sector, Cement sector BTST is highly recommended.August 16, 2024: Friday: S.11-9.40/S.12: Moola: BullishHigher opening is expected. Auto, Cement and Metal sectors will be very active. Tithi 12 and Nakshatra Moola is a very positive combination and BUY and SELL strategy will reward intraday and well position traders. Market breadth will be very positive. Reducing overall exposure is highly recommended.Next week, we may see panic sell and new low on Indices cannot be ruled out.Monday 19, 2024- the Number of Planet aspects are lined up, The impact would be felt not only by markets but globally and we believe it a round of wealth destruction cannot be ruled out. The planet line up is indicting sudden escalation of War in different parts of the world.Disclaimer: The views and investment tips expressed by investment experts onÂ\\xa0Moneycontrol.comÂ\\xa0are their own and not those of the website or its management.Â\\xa0Moneycontrol.comÂ\\xa0advises users to check with certified experts before taking any investment decisions. \\xa0\\n       \")]"
      ]
     },
     "execution_count": 8,
     "metadata": {},
     "output_type": "execute_result"
    }
   ],
   "source": [
    "webtext_documents"
   ]
  },
  {
   "cell_type": "code",
   "execution_count": 9,
   "metadata": {},
   "outputs": [
    {
     "data": {
      "text/plain": [
       "[Document(metadata={'source': 'https://www.moneycontrol.com/news/business/markets/stockology-textile-fertiliser-and-food-business-will-attract-big-ticket-investments-12792837.html'}, page_content='Stockology: Textile, fertiliser and food business will attract big ticket investmentsThe long-term'),\n",
       " Document(metadata={'source': 'https://www.moneycontrol.com/news/business/markets/stockology-textile-fertiliser-and-food-business-will-attract-big-ticket-investments-12792837.html'}, page_content='long-term structure is very much intact, and nothing has changed. Weekly and monthly stops and'),\n",
       " Document(metadata={'source': 'https://www.moneycontrol.com/news/business/markets/stockology-textile-fertiliser-and-food-business-will-attract-big-ticket-investments-12792837.html'}, page_content='monthly stops and levels are still same and there is no change.'),\n",
       " Document(metadata={'source': 'https://www.moneycontrol.com/news/business/markets/stockology-textile-fertiliser-and-food-business-will-attract-big-ticket-investments-12792837.html'}, page_content='Past few days and week, movement in markets is choppy and in a very tight range. The Solar date'),\n",
       " Document(metadata={'source': 'https://www.moneycontrol.com/news/business/markets/stockology-textile-fertiliser-and-food-business-will-attract-big-ticket-investments-12792837.html'}, page_content='The Solar date zone of September â€“ 4 to 10, could infuse fresh momentum in the markets, and we')]"
      ]
     },
     "execution_count": 9,
     "metadata": {},
     "output_type": "execute_result"
    }
   ],
   "source": [
    "#Transform Data in Chunks\n",
    "\n",
    "from langchain.text_splitter import RecursiveCharacterTextSplitter\n",
    "text_splitter=RecursiveCharacterTextSplitter(chunk_size=100,chunk_overlap=20)\n",
    "documents=text_splitter.split_documents(webtext_documents)\n",
    "documents[:5]"
   ]
  },
  {
   "cell_type": "code",
   "execution_count": 10,
   "metadata": {},
   "outputs": [],
   "source": [
    "# Generate embeddings\n",
    "embeddings_model = GoogleGenerativeAIEmbeddings(model=\"models/embedding-001\")\n",
    "embeddings = embeddings_model.embed_documents([doc.page_content for doc in documents])"
   ]
  },
  {
   "cell_type": "code",
   "execution_count": 12,
   "metadata": {},
   "outputs": [],
   "source": [
    "#Converting Chunks to Vector Embeddings and storing to ChromaDB\n",
    "\n",
    "from langchain_google_genai import GoogleGenerativeAIEmbeddings\n",
    "from langchain_community.vectorstores import Chroma\n",
    "DB = Chroma.from_documents(documents, embeddings_model)"
   ]
  },
  {
   "cell_type": "code",
   "execution_count": 14,
   "metadata": {},
   "outputs": [
    {
     "data": {
      "text/plain": [
       "'Stockology: Textile, fertiliser and food business will attract big ticket investmentsThe long-term'"
      ]
     },
     "execution_count": 14,
     "metadata": {},
     "output_type": "execute_result"
    }
   ],
   "source": [
    "#Direct Search on Chroma db without LLM\n",
    "Query=\"What is the view on food business?\"\n",
    "result=DB.similarity_search(Query)\n",
    "#result\n",
    "result[0].page_content"
   ]
  },
  {
   "cell_type": "code",
   "execution_count": 15,
   "metadata": {},
   "outputs": [],
   "source": [
    "#Storing Chunks to FAISS DB\n",
    "\n",
    "from langchain_community.vectorstores import FAISS\n",
    "DB2=FAISS.from_documents(documents[:20], embeddings_model)"
   ]
  },
  {
   "cell_type": "code",
   "execution_count": 16,
   "metadata": {},
   "outputs": [
    {
     "data": {
      "text/plain": [
       "'Stockology: Textile, fertiliser and food business will attract big ticket investmentsThe long-term'"
      ]
     },
     "execution_count": 16,
     "metadata": {},
     "output_type": "execute_result"
    }
   ],
   "source": [
    "#Direct Search on FAISS db without LLM\n",
    "Query=\"What is the view on food business?\"\n",
    "result=DB.similarity_search(Query)\n",
    "result[0].page_content"
   ]
  }
 ],
 "metadata": {
  "kernelspec": {
   "display_name": "Python 3",
   "language": "python",
   "name": "python3"
  },
  "language_info": {
   "codemirror_mode": {
    "name": "ipython",
    "version": 3
   },
   "file_extension": ".py",
   "mimetype": "text/x-python",
   "name": "python",
   "nbconvert_exporter": "python",
   "pygments_lexer": "ipython3",
   "version": "3.10.14"
  }
 },
 "nbformat": 4,
 "nbformat_minor": 2
}
